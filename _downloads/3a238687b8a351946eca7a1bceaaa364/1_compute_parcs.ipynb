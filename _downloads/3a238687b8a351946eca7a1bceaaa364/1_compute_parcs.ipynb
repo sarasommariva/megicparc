{
  "cells": [
    {
      "cell_type": "markdown",
      "metadata": {},
      "source": [
        "\n# Generate MEG informed cortical parcellations\n"
      ]
    },
    {
      "cell_type": "code",
      "execution_count": null,
      "metadata": {
        "collapsed": false
      },
      "outputs": [],
      "source": [
        "import os\nimport os.path as op\nimport numpy as np\nimport pickle\n\nfrom mne import (read_forward_solution, pick_types_forward,\n                 convert_forward_solution, read_labels_from_annot)\n\nfrom megicparc import compute_distance_matrix, compute_parcellation\n\ntarget = '../data'\nsubjects = ['k1_T1', 'k2_T1', 'k4_T1', 'k6_T1', 'k7_T1',\n           'CC110045', 'CC110182', 'CC110174', 'CC110126', 'CC110056']\n\nsubjects_dir = op.join(target, 'subjects_flame')\nsensors_meg = 'grad'\nstring_lf = op.join(target, 'fwd_models', 'original_fwd',\n                  '{:s}_meg_single_layer-fwd.fif')\n\ngamma_tot = np.arange(0, 1.01, 0.2)\nknn_tot = [10, 20, 30, 40]\ntheta = 0.05\nparc = 'aparc'\n\nfolder_fl = op.join(target, 'results', 'parcellations')\nstring_target_file = op.join(folder_fl,\n                        '{:s}_flame_grad_k{:d}_gamma{:1.2f}_theta{:1.2f}.pkl')\n\nif not op.isdir(folder_fl):\n    os.mkdir(folder_fl)\n\n# In[] Initialization\nfor idx_sub, subject in enumerate(subjects):\n    print('Working with %s' % subject)\n\n    # In[]: Step 2. Load\n    #   2.a. Forward model\n    path_lf = string_lf.format(subject)\n    fwd = read_forward_solution(path_lf)\n    fwd = pick_types_forward(fwd, meg=sensors_meg,\n                             eeg=False, ref_meg=False, exclude='bads')\n    fwd = convert_forward_solution(fwd,\n                                   surf_ori=True, force_fixed=True, use_cps=True)\n\n    #   2.b. Anatomical regions\n    label_lh = read_labels_from_annot(subject=subject, parc=parc, hemi='lh',\n                                      subjects_dir=subjects_dir)\n    label_rh = read_labels_from_annot(subject=subject, parc=parc, hemi='rh',\n                                      subjects_dir=subjects_dir)\n    label = label_lh + label_rh\n\n    # In[]: Step 3. Run flame\n    for gamma in gamma_tot:\n        sort_dist = compute_distance_matrix(fwd, gamma=gamma,\n                                            theta=theta, labels=label)\n        for knn in knn_tot:\n            target_file = string_target_file.format(\n                subject, knn, gamma, theta)\n            flame_data = compute_parcellation(sort_dist, k_nn=knn)\n            # - Save\n            print('Saving %s' % target_file)\n            aux_f = open(target_file, 'wb')\n            pickle.dump(flame_data, aux_f, protocol=2)\n            aux_f.close()\n\n            del flame_data\n        del sort_dist\n\n    if subject == 'k2_T1':  # For 'k2_T1' we also compute parcellations for theta = 0\n\n        theta_aux = 0\n\n        for gamma in gamma_tot:\n            sort_dist = compute_distance_matrix(fwd, gamma=gamma,\n                                                theta=theta_aux, labels=label)\n            for knn in knn_tot:\n                target_file = string_target_file.format(\n                    subject, knn, gamma, theta_aux)\n                flame_data = compute_parcellation(sort_dist, k_nn=knn)\n                # - Save\n                print('Saving %s' % target_file)\n                aux_f = open(target_file, 'wb')\n                pickle.dump(flame_data, aux_f, protocol=2)\n                aux_f.close()\n\n                del flame_data\n            del sort_dist"
      ]
    }
  ],
  "metadata": {
    "kernelspec": {
      "display_name": "Python 3",
      "language": "python",
      "name": "python3"
    },
    "language_info": {
      "codemirror_mode": {
        "name": "ipython",
        "version": 3
      },
      "file_extension": ".py",
      "mimetype": "text/x-python",
      "name": "python",
      "nbconvert_exporter": "python",
      "pygments_lexer": "ipython3",
      "version": "3.10.10"
    }
  },
  "nbformat": 4,
  "nbformat_minor": 0
}
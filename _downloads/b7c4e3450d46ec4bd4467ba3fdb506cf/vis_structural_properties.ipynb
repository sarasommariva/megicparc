{
  "cells": [
    {
      "cell_type": "markdown",
      "metadata": {},
      "source": [
        "\n# Structural properties of the MEG-informed parcellation\n"
      ]
    },
    {
      "cell_type": "code",
      "execution_count": null,
      "metadata": {
        "collapsed": false
      },
      "outputs": [],
      "source": [
        "import os.path as op\nimport os\nimport numpy as np\nimport pickle\n\nimport matplotlib.pyplot as plt\nimport matplotlib.patches as patches\n\nfrom mne import (read_forward_solution, pick_types_forward, \n                 convert_forward_solution, read_labels_from_annot,\n                 spatial_src_adjacency) \nfrom mne.viz import get_brain_class\n\nimport megicparc\n\n# In[]: Step 1. Define general parameters\ntarget = '../data'\npath_fig = op.join(target, 'figures')\nsubjects_dir = op.join(target, 'subjects_flame')\nsubjects = ['k1_T1', 'k2_T1', 'k4_T1', 'k6_T1', 'k7_T1',\n           'CC110045', 'CC110182', 'CC110174', 'CC110126', 'CC110056']\nsensors_meg = 'grad' \nstring_lf = op.join(target, 'fwd_models', 'original_fwd',\n                  '{:s}_meg_single_layer-fwd.fif')\n\ngamma_tot = np.arange(0, 1.01, 0.2)\nknn_tot = [10, 20, 30, 40]\ntheta = 0.05\nparc = 'aparc'\n\nfolder_fl = op.join(target, 'results', './parcellations')\nstring_target_file = op.join(folder_fl,\n                        '{:s}_flame_grad_k{:d}_gamma{:1.2f}_theta{:1.2f}.pkl')\n\n# In[] Initialization\nnum_roi_an = np.zeros(len(subjects))\nnum_roi = np.zeros((np.size(knn_tot), np.size(gamma_tot), len(subjects)))\n\nn_cc = {x : [] for x in \\\n        ['k%d_gamma%1.2f'%(knn, gamma) for knn in knn_tot for gamma in gamma_tot]}\n\ncoverage_an = np.zeros(len(subjects))\ncoverage = np.zeros((np.size(knn_tot), np.size(gamma_tot), len(subjects)))"
      ]
    },
    {
      "cell_type": "code",
      "execution_count": null,
      "metadata": {
        "collapsed": false
      },
      "outputs": [],
      "source": [
        "for idx_sub, subject in enumerate(subjects):\n    \n    print('Working with %s'%subject)\n    \n# In[]: Step 2. Load \n#   2.a. Forward model   \n    path_lf = string_lf.format(subject)\n    fwd = read_forward_solution(path_lf)\n    fwd = pick_types_forward(fwd, meg=sensors_meg, \n                eeg=False, ref_meg=False, exclude='bads')\n    fwd = convert_forward_solution(fwd, \n                surf_ori=True, force_fixed=True, use_cps=True)\n    n_vert = fwd['src'][0]['nuse'] + fwd['src'][1]['nuse']\n\n    #   2.b. Anatomical regions\n    label_lh = read_labels_from_annot(subject=subject, parc=parc, hemi='lh',\n                           subjects_dir=subjects_dir)\n    label_rh = read_labels_from_annot(subject=subject, parc=parc, hemi='rh', \n                        subjects_dir=subjects_dir)\n    label = label_lh + label_rh\n    \n# In[]: Step 3. Analysis with anatomical parcels.\n    proj_anrois = megicparc.labels_to_array(label, fwd['src'])\n\n    #       3.1. Number of regions\n    if proj_anrois['outliers'] > 0:\n        aux_num_roi = len(proj_anrois['parcel']) - 1\n    else:\n        aux_num_roi = len(proj_anrois['parcel'])\n    num_roi_an[idx_sub] = aux_num_roi\n#       4.a.2. Coverage\n    coverage_an[idx_sub] = 100 * (n_vert - proj_anrois['outliers']) / n_vert\n    \n# In[]: Step 4. Analysis with meg-informed parcels\n    bmesh_adj_mat = np.array(spatial_src_adjacency(fwd['src']).todense())\n    \n    for idx_g, gamma in enumerate(gamma_tot):\n        for idx_k, knn in enumerate(knn_tot):\n\n            target_file = string_target_file.format(\n                            subject, knn, gamma, theta)\n            print('Loading %s'%target_file)\n            with open(target_file, 'rb') as aux_lf:\n                flame_data = pickle.load(aux_lf)\n\n                # 4.1 Number of regions\n                num_roi[idx_k, idx_g, idx_sub] = flame_data['centroids']\n                # 4.2. Coverage\n                coverage[idx_k, idx_g, idx_sub] = \\\n                        100 * (n_vert - flame_data['outliers']) / n_vert\n                # 4.3. Number of connected components\n                n_cc['k%d_gamma%1.2f'%(knn, gamma)] += \\\n                     [len(megicparc.compute_connected_components(\n                             bmesh_adj_mat, flame_data['parcel'][ir])) \\\n                             for ir in range(flame_data['centroids'])]"
      ]
    },
    {
      "cell_type": "markdown",
      "metadata": {},
      "source": [
        "In[]: Step 5. Averages\n\n"
      ]
    },
    {
      "cell_type": "code",
      "execution_count": null,
      "metadata": {
        "collapsed": false
      },
      "outputs": [],
      "source": [
        "Ns = len(subjects)\n\n# 5.a. Anatomy-based parcels\nnum_roi_an_ave = np.mean(num_roi_an)\nnum_roi_an_sem = np.std(num_roi_an, ddof=1) / np.sqrt(Ns)\n\n# 5.b. MEG-informed parcels\nnum_roi_ave = np.mean(num_roi, axis=2)    \nnum_roi_sem = np.std(num_roi, axis=2, ddof=1) / np.sqrt(Ns) \n\nn_cc_ave = np.zeros((np.size(knn_tot), np.size(gamma_tot)))\nn_cc_sem = np.zeros((np.size(knn_tot), np.size(gamma_tot)))\n\nfor idx_g, gamma in enumerate(gamma_tot):\n    for idx_k, knn in enumerate(knn_tot):\n        aux_cc = np.asanyarray(n_cc['k%d_gamma%1.2f'%(knn, gamma)])\n        n_cc_ave[idx_k, idx_g] = np.mean(aux_cc)\n        n_cc_sem[idx_k, idx_g] = np.std(aux_cc, ddof=1) / np.sqrt(np.size(aux_cc))"
      ]
    },
    {
      "cell_type": "markdown",
      "metadata": {},
      "source": [
        "In[]: Step 6. Additional analysis: impact of the anatomical constraints\n\n"
      ]
    },
    {
      "cell_type": "code",
      "execution_count": null,
      "metadata": {
        "collapsed": false
      },
      "outputs": [],
      "source": [
        "ac_sub = 'k2_T1'\npath_lf = string_lf.format(ac_sub)\nfwd = read_forward_solution(path_lf)\nlabel_lh = read_labels_from_annot(subject=ac_sub, parc=parc, hemi='lh',\n                       subjects_dir=subjects_dir)\nlabel_rh = read_labels_from_annot(subject=ac_sub, parc=parc, hemi='rh', \n                subjects_dir=subjects_dir)\nlabel = label_lh + label_rh\nproj_anrois = megicparc.labels_to_array(label, fwd['src'])\ndel label, fwd\n    \nk_nn_ac = [30]\ntheta_ac = [0, 0.05]\ngamma_ac = np.arange(1, 0.4, -0.2)\n\ntolls = [0.05]\n\nspread = {}\nnum_roi_constr = {}\n\nfor idx_t, theta in enumerate(theta_ac):\n    for idx_k, knn in enumerate(k_nn_ac):\n        for idx_g, gamma in enumerate(gamma_ac):\n#           6.1. Reload parcellation                 \n            target_file = string_target_file.format(ac_sub, knn, gamma, \n                                                    theta)\n            print('Loading %s'%target_file)\n            with open(target_file, 'rb') as aux_lf:\n                flame_data = pickle.load(aux_lf)\n\n            num_roi_constr['k%d_gamma%1.2f_theta%1.2f'%(knn, gamma, theta)] = \\\n                flame_data['centroids']\n#           6.2. Compute cotingency matrix\n            conting_mat = np.array([\n                    np.array([\n                    np.intersect1d(p_fl, p_an).shape[0] \n                    for p_an in proj_anrois['parcel']]) \n                    for p_fl in flame_data['parcel'][0:flame_data['centroids']]])\n            conting_mat = conting_mat / \\\n                    np.sum(conting_mat, axis=1)[:, np.newaxis]\n#           6.3. Compute spread of flame regions over anatomical\n            spread['k%d_gamma%1.2f_theta%1.2f'%(knn, gamma, theta)] = \\\n                np.zeros((flame_data['centroids'], np.size(tolls)))\n\n            for idx_t, toll in enumerate(tolls):\n                spread['k%d_gamma%1.2f_theta%1.2f'%(knn, gamma, theta)] [:, idx_t] = \\\n                    np.sum(conting_mat > toll, axis=1)"
      ]
    },
    {
      "cell_type": "markdown",
      "metadata": {},
      "source": [
        "In[]: Step 7. Plot\n\n"
      ]
    },
    {
      "cell_type": "code",
      "execution_count": null,
      "metadata": {
        "collapsed": false
      },
      "outputs": [],
      "source": [
        "plt.rc('text', usetex=True)\n#plt.rc('text.latex', preamble=r'\\usepackage{color}')\nplt.rc('font', family='serif', size=22)\nplt.rcParams['axes.grid'] = True\nplt.rcParams['lines.linewidth'] = 3\nplt.rcParams['errorbar.capsize'] = 3.5\nplt.rcParams[\"figure.figsize\"] = [12, 8]\nplt.rcParams['patch.force_edgecolor'] = True\n\ncolors = np.array([np.array([0, 1, 0]), \n                  np.array([0, 0, 1]), \n                  np.array([1, 0, 0]), \n                  np.array([0, 0.9655, 1])])"
      ]
    },
    {
      "cell_type": "markdown",
      "metadata": {},
      "source": [
        "In[]. 7.1. Number of regions\n\n"
      ]
    },
    {
      "cell_type": "code",
      "execution_count": null,
      "metadata": {
        "collapsed": false
      },
      "outputs": [],
      "source": [
        "f_numreg = plt.figure()\nfor idx_k, knn in enumerate(knn_tot):\n    plt.errorbar(gamma_tot, num_roi_ave[idx_k, :],\n                 yerr=num_roi_sem[idx_k, :], color=colors[idx_k], \n                 label='$k$ = %d'%knn)\nplt.errorbar(gamma_tot, num_roi_an_ave*np.ones(np.size(gamma_tot)),\n             yerr=num_roi_an_sem*np.ones(np.size(gamma_tot)), \n             fmt='k--', label='DK')\nplt.legend(loc=[0.68, 0.47], fontsize=18)\nplt.xlabel(r'Weight of the spatial distances', fontsize=25)\nplt.ylabel(r'Number of parcels', fontsize=25)\nplt.ylim(0, 350)\nplt.xlim(-0.05, 1.05)\n\nf_numreg.set_size_inches(8.5, 6)\nplt.tight_layout(pad=1.5)\nf_numreg.savefig(op.join(path_fig, 'num_regions.png'))"
      ]
    },
    {
      "cell_type": "markdown",
      "metadata": {},
      "source": [
        "In[]. 7.2. Number of connected components\n\n"
      ]
    },
    {
      "cell_type": "code",
      "execution_count": null,
      "metadata": {
        "collapsed": false
      },
      "outputs": [],
      "source": [
        "f_cc = plt.figure()\nfor idx_k, knn in enumerate(knn_tot):\n    plt.errorbar(gamma_tot, n_cc_ave[idx_k, :], yerr=n_cc_sem[idx_k, :],\n                 label='$k$ = %d'%knn, color=colors[idx_k])\nplt.legend(fontsize=18)\nplt.xlabel(r'Weight of the spatial distances', fontsize=25)\nplt.ylabel(r'Number connected components', fontsize=25)\nplt.ylim(0, 30)\nplt.xlim(-0.05, 1.05)\n#plt.show()\n\nf_cc.set_size_inches(8.5, 6)\nplt.tight_layout(pad=1.5)\nf_cc.savefig(op.join(path_fig, 'n_connected_comp.png'))"
      ]
    },
    {
      "cell_type": "markdown",
      "metadata": {},
      "source": [
        "In[]. 7.3. (Additional) Coverage\n\n"
      ]
    },
    {
      "cell_type": "code",
      "execution_count": null,
      "metadata": {
        "collapsed": false
      },
      "outputs": [],
      "source": [
        "f_cov = plt.figure()\nfor idx_k, knn in enumerate(knn_tot):\n    aux_xax =np.concatenate([gamma*np.ones(Ns) for gamma in gamma_tot])\n    plt.plot(aux_xax, coverage[idx_k].reshape(Ns*np.size(gamma_tot)), \n                 '.', color=colors[idx_k], label='k = %d'%knn)\nplt.legend()\nplt.xlabel(r'Weight of the spatial distances', fontsize=35)\nplt.ylabel(r'Coverage', fontsize=25)\nplt.xlim(-0.1, 1.1)\n\nf_cc.set_size_inches(9, 6.5)\nplt.tight_layout(pad=1.5)\n\nprint('coverage analysis')\nprint(np.max(coverage[0, 5, :]))\nprint(np.min(coverage[0, 5, :]))\naux = coverage\naux[0, 5, :] = 100\nprint(np.min(aux))"
      ]
    },
    {
      "cell_type": "markdown",
      "metadata": {},
      "source": [
        "In[]. 7.4. (Additional) Impact of anatomical constraints\n\n"
      ]
    },
    {
      "cell_type": "code",
      "execution_count": null,
      "metadata": {
        "collapsed": false
      },
      "outputs": [],
      "source": [
        "bins = np.arange(-0.5, 69, 1)\nalpha = 0.7\n\nknn = k_nn_ac[0]\ntoll = tolls[0]\n\nfac, axac = plt.subplots(1, np.size(gamma_ac), figsize=[13, 5])\n#fac.suptitle('$k =$ %d'%knn)\nidx_t = 0\n\nfor idx_g, gamma in enumerate(gamma_ac):\n    aux_th1 = spread['k%d_gamma%1.2f_theta%1.2f'%(knn, gamma, theta_ac[1])][:, idx_t] \n    axac[idx_g].hist(aux_th1, bins=bins, alpha=alpha,\n                    weights=np.ones_like(aux_th1)/np.shape(aux_th1)[0]*100, \n                    label=r'$\\theta = $ %1.2f'%theta_ac[1])\n    aux_th2 = spread['k%d_gamma%1.2f_theta%1.2f'%(knn, gamma, theta_ac[0])] [:, idx_t]\n    axac[idx_g].hist(aux_th2, bins=bins, alpha=alpha, \n                    weights=np.ones_like(aux_th2)/np.shape(aux_th2)[0]*100, \n                    label=r'$\\theta = $ %1.2f'%theta_ac[0])\n    axac[idx_g].set_ylim(0, 100)\n    axac[idx_g].set_xlim(-0.5, 10.5)\n    #axac[idx_t, idx_g].legend()\n\n    if idx_t == 0:\n        axac[idx_g].set_title(r'$\\gamma = %1.1f$ '%(gamma)) \n        axac[idx_g].set_xticks(np.arange(1, 11, 2))\n        axac[idx_g].text(6.5, 85, '%d ;'%(num_roi_constr['k%d_gamma%1.2f_theta0.05'%(knn, gamma)]), \n                         ha='center', color='dodgerblue', fontweight='bold')\n        axac[idx_g].text(8.5, 85, '%d'%(num_roi_constr['k%d_gamma%1.2f_theta0.00'%(knn, gamma)]), \n                         ha='center', color='darkorange', fontweight='bold')\n        axac[idx_g].text(7.2, 75, 'parcels', ha='center')\n        rect = patches.FancyBboxPatch((5, 72), 4.5, 22, \n                                  boxstyle='round', facecolor='white', \n                                 edgecolor='lightgray', zorder=2)\n        axac[idx_g].add_patch(rect)\n    else:\n        axac[idx_g].set_xticks(np.arange(1, 11, 2))\n\n    if idx_g == 0:\n        axac[idx_g].set_ylabel(\n            r'Number of parcels ($\\%$)', \n                         fontsize=30)\n    else:\n        axac[idx_g].set_yticklabels([])\n\n#hand, lab = axac[idx_g].get_legend_handles_labels()\n#fac.legend(hand, lab, loc=[0.9, 0.5])\naxac[-1].legend(bbox_to_anchor=(1, 0.5), loc='center left',\n            borderaxespad=0.2)\nfac.text(0.45, 0.02, 'Number of intersecting atlas parcels', ha='center', \n              fontsize=30)\nplt.tight_layout(pad=1.5)\n\n\nfac.savefig(op.join(path_fig, 'an_constr_%s_k%d'%(ac_sub, knn)))\n\ngamma_tplot = np.arange(0, 1, 0.1)\ntheta_tplot = np.array([0.01, 0.025, 0.05, 0.1, 0.2])\nf_tg = np.array([theta * (gamma_tplot / (1-gamma_tplot)) \\\n             for theta in theta_tplot])\n\ncolors_tplot = np.array([np.array([0, 1, 0]),\n        np.array([0, 0, 1]), np.array([1, 0, 0]),\n        np.array([0, 0.9655, 1]), np.array([1, 0.4828, 0.8621])])\n\nf_tplot = plt.figure()\nfor idx_t, theta in enumerate(theta_tplot):\n    plt.plot(gamma_tplot, f_tg[idx_t],\n         label=r'$\\theta$ = %1.3f'%theta, color=colors_tplot[idx_t])\nplt.legend()\nplt.xlim([0, 0.9])\nplt.ylim([0, 2])\nplt.xlabel(r'$\\gamma$', fontsize=30)\nplt.ylabel(r'$\\theta$ $\\frac{\\gamma}{1-\\gamma}$', fontsize=30)\n\nf_tplot.set_size_inches(8, 6.5)\nf_tplot.savefig(op.join(path_fig, 'impact_theta.png'))"
      ]
    },
    {
      "cell_type": "code",
      "execution_count": null,
      "metadata": {
        "collapsed": false
      },
      "outputs": [],
      "source": [
        "Brain = get_brain_class()\n\nex_sub = 'k2_T1'\n\npath_lf = string_lf.format(ex_sub)\nfwd = read_forward_solution(path_lf)\n\nlabel_lh = read_labels_from_annot(subject=ex_sub, parc=parc, hemi='lh',\n                   subjects_dir=subjects_dir)\nlabel_rh = read_labels_from_annot(subject=ex_sub, parc=parc, hemi='rh', \n                subjects_dir=subjects_dir)\nlabel = label_lh + label_rh\n            \n# In[] 7.5. Spatial cohesion\nknn_plot = 30\ngamma_plot = [0, 0.4, 0.6, 1]\ntheta_plot = 0.05\ncart_coord = [-0.03, 0.025, 0.08]\n\nsrc = fwd['src']\nV = np.concatenate((src[0]['rr'][src[0]['vertno']],\n               src[1]['rr'][src[1]['vertno']]), axis=0)\nnvert = src[0]['nuse'] + src[1]['nuse']\n\nidx_vert = np.argmin(np.linalg.norm(V - cart_coord, axis=1))\n\nfor gamma in gamma_plot:\n    target_file = string_target_file.format(\n                        ex_sub, knn_plot, gamma, theta_plot)\n    print('Loading %s'%target_file)\n    with open(target_file, 'rb') as aux_lf:\n        flame_data = pickle.load(aux_lf)\n    flame_labels = megicparc.store_flame_labels(flame_data, src, ex_sub)\n\n    parcels_vector = np.zeros(nvert, dtype='int') - 1\n    for ir in range(flame_data['centroids']):\n        parcels_vector[flame_data['parcel'][ir]] = ir\n    sel_roi = parcels_vector[idx_vert]\n    index = [sel_roi + 1]\n              \n    brain = megicparc.plot_flame_labels(index, flame_labels, src, ex_sub,\n            subjects_dir, surf='inflated', color = [1, 0.64, 0.],\n            plot_region=True, plot_points=False, plot_borders=False)\n    brain.show_view(azimuth=173, elevation= 60)\n            \n    brain.save_image(op.join(path_fig, \n        '%s_knn_%d_gamma_%1.2f.png'%(ex_sub, knn_plot, gamma)))"
      ]
    },
    {
      "cell_type": "markdown",
      "metadata": {},
      "source": [
        "In[] 7.6. Impact of the anatomical constraints\n\n"
      ]
    },
    {
      "cell_type": "code",
      "execution_count": null,
      "metadata": {
        "collapsed": false
      },
      "outputs": [],
      "source": [
        "knn_plot = 30\ngamma_plot = 0.8\ntheta_plot = 0.05\nthresh = 0.05\nthresh_merg = 0.1\n\ntarget_file = string_target_file.format(\n                        ex_sub, knn_plot, gamma_plot, theta_plot)\nprint('Loading %s'%target_file)\nwith open(target_file, 'rb') as aux_lf:\n    flame_data = pickle.load(aux_lf)\n\nflame_labels = megicparc.store_flame_labels(flame_data, src, ex_sub)\nproj_anrois = megicparc.labels_to_array(label, src)\n\nconting_mat = np.array([\n                np.array([\n                np.intersect1d(p_fl, p_an).shape[0] \n                for p_an in proj_anrois['parcel']]) \n                for p_fl in flame_data['parcel'][0:flame_data['centroids']]])\nconting_mat = conting_mat / \\\n                np.sum(conting_mat, axis=1)[:, np.newaxis]\n                        \n# In[]. Plot 1. Example of an anatomical parcel splitted in two meg-informed parcels            \nanat_sel = 'postcentral-lh'\nidx_an = proj_anrois['name'].index(anat_sel)\nif not label[idx_an].name == anat_sel:\n    raise ValueError('Something wrong in selecting anatomical region.')\nidx_fl = np.where(conting_mat[:, idx_an]>thresh)[0]\n        \nbrain_split = Brain(ex_sub, hemi='both', surf='inflated', \n    background='white', subjects_dir=subjects_dir, alpha=1)\nbrain_split.add_label(label[idx_an], hemi=label[idx_an].hemi, \n                      alpha=0.9) \naux = idx_fl+1\nmegicparc.plot_flame_labels(aux.tolist(), flame_labels, src, ex_sub, \n    subjects_dir, surf='inflated', brain=brain_split, \n    plot_region=False, plot_points=True, plot_borders=False)\n\nnvert_lh = src[0]['nuse']\nidx_centr = flame_data['centroids_id'][idx_fl]\ncentr_lh = idx_centr[np.where(idx_centr < nvert_lh)]\ncentr_rh = idx_centr[np.where(idx_centr >= nvert_lh)] - nvert_lh\n        \nif not centr_lh.size == 0:\n    brain_split.add_foci(src[0]['vertno'][centr_lh], coords_as_verts=True, \n            hemi='lh', scale_factor=0.7, color='white')\nif not centr_rh.size == 0:\n    brain_split.add_foci(src[1]['vertno'][centr_rh], coords_as_verts=True, \n            hemi='rh', scale_factor=0.7, color='white')\n\nbrain_split.show_view(azimuth=180, elevation=60)\nbrain_split.save_image(op.join(path_fig, \n        '%s_split_%d_%1.2f.png'%(ex_sub, knn_plot, gamma_plot)))\n\n# In[]. Plot 2. Example of flame regions merged in anatomical rois\nanat_sel = 'parsopercularis-lh'\nidx_an = proj_anrois['name'].index(anat_sel)\nif not label[idx_an].name == anat_sel:\n    raise ValueError('Something wrong in selecting anatomical region.')\nidx_fl = np.where(conting_mat[:, idx_an]>thresh)[0]\nidx_an_merged = np.array(\n        [np.where(conting_mat[ir, :]>thresh_merg)[0] for ir in idx_fl])  \nidx_an_merged = np.unique(np.concatenate(idx_an_merged))\n        \nidx_an_merged = idx_an_merged[1:]\nidx_fl = np.array([idx_fl[1]])\n        \nbrain_m = Brain(ex_sub, hemi='both', surf='inflated', \n        background='white', subjects_dir=subjects_dir, alpha=1)\nfor ia in idx_an_merged:\n    if ia < 68:\n        brain_m.add_label(label[ia], hemi=label[ia].hemi, alpha=0.9) \n    else:\n        print('@@@@@ Also outliers involved')\n\ncolors = [0. , 1., 0.95600906, 1.] \nfor ii in range(idx_fl.shape[0]): # I need a for for selecting colors\n    megicparc.plot_flame_labels([idx_fl[ii]+1], flame_labels, src, \n        ex_sub, subjects_dir, surf='inflated', brain=brain_m, \n        color=colors, plot_region=False, plot_points=True, \n        plot_borders=False)\n            \nnvert_lh = src[0]['nuse']\nidx_centr = flame_data['centroids_id'][idx_fl]\ncentr_lh = idx_centr[np.where(idx_centr < nvert_lh)]\ncentr_rh = idx_centr[np.where(idx_centr >= nvert_lh)] - nvert_lh\n\nif not centr_lh.size == 0:\n    brain_m.add_foci(src[0]['vertno'][centr_lh], coords_as_verts=True, \n            hemi='lh', scale_factor=0.7, color='white')\nif not centr_rh.size == 0:\n    brain_m.add_foci(src[1]['vertno'][centr_rh], coords_as_verts=True, \n            hemi='rh', scale_factor=0.7, color='white')\n\nbrain_m.show_view(azimuth=170, elevation=90)\nbrain_m.save_image(op.join(path_fig, \n            '%s_merge_%d_%1.2f.png'%(ex_sub, knn_plot, gamma_plot)))"
      ]
    },
    {
      "cell_type": "markdown",
      "metadata": {},
      "source": [
        "In[]. 7.7. Reduced source space on top of DK atlas   \n\n"
      ]
    },
    {
      "cell_type": "code",
      "execution_count": null,
      "metadata": {
        "collapsed": false
      },
      "outputs": [],
      "source": [
        "brain_redV = Brain(ex_sub, hemi='both', surf='inflated', \n    background='white', subjects_dir=subjects_dir, alpha=1)\n#   Superimpose anatomical regions\nfor ir in range(len(label)):\n    brain_redV.add_label(label[ir], hemi=label[ir].hemi, alpha=0.9) \n\n#  Superimpose centroids    \nmegicparc.plot_flame_centroids(flame_data, src, ex_sub, subjects_dir, \n                           brain_redV)\n\nbrain_redV.show_view(azimuth=170, elevation=90)\n\nbrain_redV.save_image(op.join(path_fig, \n        '%s_redV_%d_%1.2f.png'%(ex_sub, knn_plot, gamma_plot)))"
      ]
    }
  ],
  "metadata": {
    "kernelspec": {
      "display_name": "Python 3",
      "language": "python",
      "name": "python3"
    },
    "language_info": {
      "codemirror_mode": {
        "name": "ipython",
        "version": 3
      },
      "file_extension": ".py",
      "mimetype": "text/x-python",
      "name": "python",
      "nbconvert_exporter": "python",
      "pygments_lexer": "ipython3",
      "version": "3.10.10"
    }
  },
  "nbformat": 4,
  "nbformat_minor": 0
}
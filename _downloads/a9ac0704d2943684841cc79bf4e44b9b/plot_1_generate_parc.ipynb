{
  "cells": [
    {
      "cell_type": "markdown",
      "metadata": {},
      "source": [
        "\n# Create a MEG informed cortical parcellation\nThis example shows how to generate and visualize a lead-field based\nMEG informed cortical parcellation.\n"
      ]
    },
    {
      "cell_type": "markdown",
      "metadata": {},
      "source": [
        "Import the required\n\n"
      ]
    },
    {
      "cell_type": "code",
      "execution_count": null,
      "metadata": {
        "collapsed": false
      },
      "outputs": [],
      "source": [
        "from megicparc import (compute_distance_matrix, compute_parcellation,\n                       store_flame_labels)\nfrom megicparc.viz import (plot_flame_labels, plot_flame_centroids)\n\nfrom mne import (read_forward_solution, read_source_spaces,\n                 read_labels_from_annot, pick_types_forward,\n                 convert_forward_solution)\nfrom mne.datasets import sample\n\nimport os.path as op"
      ]
    },
    {
      "cell_type": "markdown",
      "metadata": {},
      "source": [
        "Define input parameters for the flame algorithm running in megicperc\n\n"
      ]
    },
    {
      "cell_type": "code",
      "execution_count": null,
      "metadata": {
        "collapsed": false
      },
      "outputs": [],
      "source": [
        "parc = 'aparc'\ngamma = 0.8\ntheta = 0.05\nsensors_meg = 'grad'\nknn = 30"
      ]
    },
    {
      "cell_type": "markdown",
      "metadata": {},
      "source": [
        "Load lead-field matrix and source-space\n\n"
      ]
    },
    {
      "cell_type": "code",
      "execution_count": null,
      "metadata": {
        "collapsed": false
      },
      "outputs": [],
      "source": [
        "data_path = sample.data_path()\nsubjects_dir = op.join(data_path, 'subjects')\nsubject = 'sample'\nfwd_file = op.join(data_path, 'MEG', subject, 'sample_audvis-meg-eeg-oct-6-fwd.fif')\nsrc_file = op.join('..', 'data', 'data_mne_sample', 'source_space_distance-src.fif')\n\nfwd = read_forward_solution(fwd_file)\nfwd = pick_types_forward(fwd, meg=sensors_meg, eeg=False,\n                         ref_meg=False, exclude='bads')\nfwd = convert_forward_solution(fwd, surf_ori=True, force_fixed=True,\n                               use_cps=True)\n#src = read_source_spaces(src_file)\n# Inter-source distances along the cortical surface has been added\n# to the source-space as follows\nfrom mne import add_source_space_distances\nsrc = add_source_space_distances(fwd['src'])\nsrc.save(op.join('..', 'data', 'data_mne_sample', 'source_space_distance-src.fif'))\n\nfwd['src'] = src"
      ]
    },
    {
      "cell_type": "markdown",
      "metadata": {},
      "source": [
        "Load the cortical atlas and run flame algorithm\n\n"
      ]
    },
    {
      "cell_type": "code",
      "execution_count": null,
      "metadata": {
        "collapsed": false
      },
      "outputs": [],
      "source": [
        "label_lh = read_labels_from_annot(subject=subject, parc=parc, hemi='lh',\n                                  subjects_dir=subjects_dir)\nlabel_rh = read_labels_from_annot(subject=subject, parc=parc, hemi='rh',\n                                  subjects_dir=subjects_dir)\nlabel = label_lh + label_rh\nsort_dist = compute_distance_matrix(fwd, gamma=gamma,\n                                    theta=theta, labels=label)\nsample_parc = compute_parcellation(sort_dist, k_nn=knn)\n# Store megic parcels as mne-python labels for visualization purpose.\nsample_parc_labels = store_flame_labels(sample_parc, src, subject)\n\n\"\"\nplot_flame_centroids(sample_parc, fwd['src'], subject, subjects_dir,\n                     brain=None, surf='inflated', scale_factor=0.5,\n                     color='white')\n\n\n\"\"\nbrain_parc = plot_flame_labels([87], sample_parc_labels, src, subject,\n                  subjects_dir, surf='inflated', brain=None,\n                  color=None, plot_region=True,\n                  plot_points=False, plot_borders=False)\nplot_flame_labels([80], sample_parc_labels, src, subject,\n                  subjects_dir, surf='inflated', brain=brain_parc,\n                  color=None, plot_region=False,\n                  plot_points=False, plot_borders=True)\nplot_flame_labels([52], sample_parc_labels, src, subject,\n                  subjects_dir, surf='inflated', brain=brain_parc,\n                  color=None, plot_region=False,\n                  plot_points=True, plot_borders=False)\n\n\n\"\"\n# sphinx_gallery_thumbnail_number = 2"
      ]
    }
  ],
  "metadata": {
    "kernelspec": {
      "display_name": "Python 3",
      "language": "python",
      "name": "python3"
    },
    "language_info": {
      "codemirror_mode": {
        "name": "ipython",
        "version": 3
      },
      "file_extension": ".py",
      "mimetype": "text/x-python",
      "name": "python",
      "nbconvert_exporter": "python",
      "pygments_lexer": "ipython3",
      "version": "3.10.10"
    }
  },
  "nbformat": 4,
  "nbformat_minor": 0
}
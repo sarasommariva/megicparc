{
  "cells": [
    {
      "cell_type": "markdown",
      "metadata": {},
      "source": [
        "\n# Functional properties of the MEG-informed parcellation\n"
      ]
    },
    {
      "cell_type": "code",
      "execution_count": null,
      "metadata": {
        "collapsed": false
      },
      "outputs": [],
      "source": [
        "import os.path as op\nimport os\nimport numpy as np\nfrom scipy import stats\nimport pickle\n\nfrom mne import (read_forward_solution, pick_types_forward, \n                 convert_forward_solution, read_labels_from_annot)\n\nimport matplotlib.pyplot as plt\n\nimport megicparc\nfrom megicparc.utils import compute_inv_op_rank, collapse_RM"
      ]
    },
    {
      "cell_type": "markdown",
      "metadata": {},
      "source": [
        "In[]: Step 1. Define general parameters\n\n"
      ]
    },
    {
      "cell_type": "code",
      "execution_count": null,
      "metadata": {
        "collapsed": false
      },
      "outputs": [],
      "source": [
        "target = '../data'\npath_fig = op.join(target, 'figures')\nsubjects_dir = op.join(target, 'subjects_flame')\nsubjects = ['k1_T1', 'k2_T1', 'k4_T1', 'k6_T1', 'k7_T1',\n           'CC110045', 'CC110182', 'CC110174', 'CC110126', 'CC110056']\nsensors_meg = 'grad' \nstring_lf = op.join(target, 'fwd_models', 'original_fwd',\n                  '{:s}_meg_single_layer-fwd.fif')\n\ngamma_tot = np.arange(0, 1.01, 0.2)\nknn_tot = [10, 20, 30, 40]\ntheta = 0.05\nparc = 'aparc'\n\nsnr = 3\nlam = 1. / snr\nmethod = 'dSPM' # dSPM or MNE or sLORETA\ndepth = None\nmode_labels = 'mean_flip'\n\nfolder_fl = op.join(target, 'results', './parcellations')\nstring_target_file = op.join(folder_fl,\n                        '{:s}_flame_grad_k{:d}_gamma{:1.2f}_theta{:1.2f}.pkl')\n\n# In[] Initialization\neucl_errors_full = []\neucl_errors = {x : [] for x in \\\n    ['k%d_gamma%1.2f'%(knn, gamma) for knn in knn_tot for gamma in gamma_tot]}\n\ncorrect_roi_an = np.zeros(len(subjects))\ncorrect_roi_an_full = np.zeros(len(subjects))\ncorrect_roi = np.zeros((np.size(knn_tot), np.size(gamma_tot), len(subjects)))\ncorrect_roi_full = np.zeros((np.size(knn_tot), np.size(gamma_tot), len(subjects)))\n\ndist_index_an = np.zeros(len(subjects))\ndist_index = np.zeros((np.size(knn_tot), np.size(gamma_tot), len(subjects)))\n\n# +\nfor idx_sub, subject in enumerate(subjects):\n    \n    print('Working with %s'%subject)\n    \n# In[]: Step 2. Load \n#   2.a. Forward model   \n    path_lf = string_lf.format(subject)\n    fwd = read_forward_solution(path_lf)\n    fwd = pick_types_forward(fwd, meg=sensors_meg, \n                eeg=False, ref_meg=False, exclude='bads')\n    fwd = convert_forward_solution(fwd, \n                surf_ori=True, force_fixed=True, use_cps=True)\n\n    #   2.b. Anatomical regions\n    label_lh = read_labels_from_annot(subject=subject, parc=parc, hemi='lh',\n                           subjects_dir=subjects_dir)\n    label_rh = read_labels_from_annot(subject=subject, parc=parc, hemi='rh', \n                        subjects_dir=subjects_dir)\n    label = label_lh + label_rh\n    \n    #   2.c. Parameters for inverse modeling\n    n_vert = fwd['src'][0]['nuse'] + fwd['src'][1]['nuse']\n    L = fwd['sol']['data']\n    sigma = np.mean(np.mean(L**2, axis=0)) / snr\n    C = sigma * np.eye(L.shape[0])\n\n# In[]: Step 3. Analysis with anatomical regions.\n    proj_anrois = megicparc.labels_to_array(label, fwd['src'])\n    if proj_anrois['outliers'] > 0:\n        aux_num_roi = len(proj_anrois['parcel']) - 1\n    else:\n        aux_num_roi = len(proj_anrois['parcel'])\n\n#       3.1. Source estimation and localization error on full source space \n    W_full = compute_inv_op_rank(L, C, lam, \n                        depth=depth, method=method, rank=None)\n    R_full = np.dot(W_full, L)\n    peak_full = np.argmax(R_full**2, axis=0)\n\n    ee_full = megicparc.compute_localization_error(peak_full, \n                                     np.arange(n_vert), fwd['src'])\n    eucl_errors_full += ee_full.tolist()\n\n#       3.2. RM on anatomical regions and related evaluation criteria\n    R_an = collapse_RM(R_full, label, fwd['src'], mode_labels)\n\n    peak_c_an = np.argmax(abs(R_an), axis=0)\n    true_c_an = megicparc.membership2vector( \n                        proj_anrois['parcel'][:aux_num_roi], n_vert)\n    correct_roi_an[idx_sub] = np.count_nonzero(true_c_an == peak_c_an)/n_vert*100\n    correct_roi_an_full[idx_sub] = np.count_nonzero(true_c_an[peak_full] == peak_c_an) \\\n                                    /n_vert*100                                   \n    _, dist_index_an[idx_sub] = megicparc.compute_distinguishability_index(\n                        R_an, proj_anrois['parcel'], aux_num_roi)\n\n# In[]: Step 4. Analysis with meg-informed parcels\n    for idx_g, gamma in enumerate(gamma_tot):\n        for idx_k, knn in enumerate(knn_tot):\n            \n            target_file = string_target_file.format(\n                            subject, knn, gamma, theta)\n            print('Loading %s'%target_file)\n            with open(target_file, 'rb') as aux_lf:\n                flame_data = pickle.load(aux_lf)\n\n            # 4.1. Compute RMs\n            L_fl = L[:, flame_data['centroids_id']]\n            W_fl = compute_inv_op_rank(L_fl, C, lam, \n                                     depth=depth, method=method)\n            R_fl = np.dot(W_fl, L)\n\n            peak_c = np.argmax(abs(R_fl), axis=0)\n\n            # 4.2. Compute localization errors\n            ee = megicparc.compute_localization_error(peak_c, \n                                    flame_data['centroids_id'], fwd['src'])\n            eucl_errors['k%d_gamma%1.2f'%(knn, gamma)] += ee.tolist()\n\n\n            # 4.3. Correctly identified regions\n            true_c = megicparc.membership2vector( \n                     flame_data['parcel'][:flame_data['centroids']], n_vert)\n            correct_roi[idx_k, idx_g, idx_sub] = \\\n                np.count_nonzero(true_c == peak_c)/n_vert*100\n            correct_roi_full[idx_k, idx_g, idx_sub] = \\\n                np.count_nonzero(true_c[peak_full] == peak_c)/n_vert*100\n\n            # 4.4. compute DI\n            _, DI = megicparc.compute_distinguishability_index(\n                    R_fl, flame_data['parcel'], flame_data['centroids'])\n            dist_index[idx_k, idx_g, idx_sub] = DI\n            \n            del flame_data"
      ]
    },
    {
      "cell_type": "markdown",
      "metadata": {},
      "source": [
        "In[]: Step 5. Averages\n\n"
      ]
    },
    {
      "cell_type": "code",
      "execution_count": null,
      "metadata": {
        "collapsed": false
      },
      "outputs": [],
      "source": [
        "Ns = len(subjects)\n\n# 5.1. Anatomic parcels\naux_ee = np.asanyarray(eucl_errors_full)\neucl_err_full_ave = np.mean(aux_ee)\neucl_err_full_sem = np.std(aux_ee, ddof=1) / np.sqrt(np.size(aux_ee))\n\ncorrect_roi_an_ave = np.mean(correct_roi_an)\ncorrect_roi_an_sem = np.std(correct_roi_an, ddof=1) / np.sqrt(Ns)\n\ncorrect_roi_an_full_ave = np.mean(correct_roi_an_full)\ncorrect_roi_an_full_sem = np.std(correct_roi_an_full, ddof=1) / np.sqrt(Ns)\n\ndist_index_an_ave = np.mean(dist_index_an)\ndist_index_an_sem = np.std(dist_index_an, ddof=1) / np.sqrt(Ns)\n\n# 5.2. MEG-informed parcels    \ncorrect_roi_ave = np.mean(correct_roi, axis=2)\ncorrect_roi_sem = np.std(correct_roi, axis=2, ddof=1) / np.sqrt(Ns)\n\ncorrect_roi_full_ave = np.mean(correct_roi_full, axis=2)\ncorrect_roi_full_sem = np.std(correct_roi_full, axis=2, ddof=1) / np.sqrt(Ns)\n\ndist_index_ave = np.mean(dist_index, axis=2)\ndist_index_sem = np.std(dist_index, axis=2, ddof=1) / np.sqrt(Ns)\n    \neucl_err_ave = np.zeros((np.size(knn_tot), np.size(gamma_tot)))\neucl_err_sem = np.zeros((np.size(knn_tot), np.size(gamma_tot)))\n\nfor idx_g, gamma in enumerate(gamma_tot):\n    for idx_k, knn in enumerate(knn_tot):\n\n        aux_ee = np.asanyarray(eucl_errors['k%d_gamma%1.2f'%(knn, gamma)])\n        eucl_err_ave[idx_k, idx_g] = np.mean(aux_ee)\n        eucl_err_sem[idx_k, idx_g] = np.std(aux_ee, ddof=1) / np.sqrt(np.size(aux_ee))"
      ]
    },
    {
      "cell_type": "markdown",
      "metadata": {},
      "source": [
        "In[]: Step 6. Statistical test\n\n"
      ]
    },
    {
      "cell_type": "code",
      "execution_count": null,
      "metadata": {
        "collapsed": false
      },
      "outputs": [],
      "source": [
        "# 6.1. Distinguishability index\ndi_t_scores = np.zeros((np.size(knn_tot), np.size(gamma_tot)))\ndi_p_values = np.zeros((np.size(knn_tot), np.size(gamma_tot)))\n\nfor idx_k, knn in enumerate(knn_tot):\n    for idx_g, gamma in enumerate(gamma_tot):\n\n        [aux_t, aux_p]= stats.ttest_rel(dist_index[idx_k, idx_g, :],\n                                        dist_index_an, alternative='greater')\n        di_t_scores[idx_k, idx_g] = aux_t\n        di_p_values[idx_k, idx_g] = aux_p"
      ]
    },
    {
      "cell_type": "markdown",
      "metadata": {},
      "source": [
        "In[]: Step 7. Plot\n\n"
      ]
    },
    {
      "cell_type": "code",
      "execution_count": null,
      "metadata": {
        "collapsed": false
      },
      "outputs": [],
      "source": [
        "plt.rc('text', usetex=True)\n#plt.rc('text.latex', preamble=r'\\usepackage{color}')\nplt.rc('font', family='serif', size=22)\nplt.rcParams['axes.grid'] = True\nplt.rcParams['lines.linewidth'] = 3\nplt.rcParams['errorbar.capsize'] = 3.5\nplt.rcParams[\"figure.figsize\"] = [12, 8]\nplt.rcParams['patch.force_edgecolor'] = True\n\ncolors = np.array([np.array([0, 1, 0]), \n                  np.array([0, 0, 1]), \n                  np.array([1, 0, 0]), \n                  np.array([0, 0.9655, 1])])"
      ]
    },
    {
      "cell_type": "markdown",
      "metadata": {},
      "source": [
        "7.1. Euclidean localization error\n\n"
      ]
    },
    {
      "cell_type": "code",
      "execution_count": null,
      "metadata": {
        "collapsed": false
      },
      "outputs": [],
      "source": [
        "f_ee = plt.figure()\nplt.errorbar(gamma_tot, eucl_err_full_ave*np.ones(np.size(gamma_tot)), \n             yerr=eucl_err_full_sem*np.ones(np.size(gamma_tot)),\n             fmt='k--', label='full source-space')\nfor idx_k, knn in enumerate(knn_tot):\n    plt.errorbar(gamma_tot, \n                 eucl_err_ave[idx_k, :], yerr=eucl_err_sem[idx_k, :],\n                 label='$k$ = %d'%knn, color=colors[idx_k])\nplt.xlabel(r'Weight of the spatial distances', fontsize=30)\nplt.ylabel(r'Localization error (mm)', fontsize=30)\nplt.xlim(-0.1, 1.1)\nif method == 'dSPM': \n    plt.ylim(10, 25)\nelse:\n    plt.ylim(0, 27)\nplt.xticks(gamma_tot)\nf_ee.set_size_inches(6.5, 7)\nplt.tight_layout(pad=1)\nf_ee.savefig(op.join(path_fig, 'eucl_loc_err_%s.png'%method))\n\n# 7.2. Percentage of corrected identified regions\nf_corr = plt.figure()\nfor idx_k, knn in enumerate(knn_tot):\n    plt.errorbar(gamma_tot, \n       correct_roi_ave[idx_k, :], yerr=correct_roi_sem[idx_k, :], \n       label='$k$ = %d'%knn, color=colors[idx_k])\nplt.errorbar(gamma_tot, \n   correct_roi_an_ave*np.ones(np.size(gamma_tot)),\n   yerr=correct_roi_an_sem*np.ones(np.size(gamma_tot)),\n   fmt='k--', label='DK')\nplt.xlabel(r'Weight of the spatial distances', fontsize=30)\nplt.xticks(gamma_tot)\nplt.ylabel(r'Number of source locations ($\\%$)',fontsize=30)\nplt.ylim(10, 70)\nplt.xlim(-0.1, 1.1)\nf_corr.set_size_inches(6.5, 7)\nplt.tight_layout(pad=1)\nf_corr.savefig(op.join(path_fig, 'corrected_regions_%s.png'%method))\n\n\nf_corr_full = plt.figure()\nax_corr_full = f_corr_full.add_subplot(1,1,1)\nfor idx_k, knn in enumerate(knn_tot):\n    ax_corr_full.errorbar(gamma_tot, \n       correct_roi_full_ave[idx_k, :], yerr=correct_roi_full_sem[idx_k, :], \n       label='$k$ = %d'%knn, color=colors[idx_k])\nax_corr_full.errorbar(gamma_tot, \n   correct_roi_an_full_ave*np.ones(np.size(gamma_tot)),\n   yerr=correct_roi_an_full_sem*np.ones(np.size(gamma_tot)),\n   fmt='k--', label='DK')\nax_corr_full.set_xlabel(r'Weight of the spatial distances', fontsize=30)\nax_corr_full.set_xticks(gamma_tot)\nax_corr_full.set_ylabel(r'Number of source locations ($\\%$)',fontsize=30)\nax_corr_full.set_ylim(10, 70)\nax_corr_full.set_xlim(-0.1, 1.1)\nf_corr_full.set_size_inches(6.5, 7)\nplt.tight_layout(pad=1)\nf_corr_full.savefig(op.join(path_fig, 'corrected_regions_%s_full.png'%method))\n\nlabel_params = ax_corr_full.get_legend_handles_labels()\nfigl, axl = plt.subplots()\naxl.axis(False)\naxl.legend(*label_params, loc=\"center\", bbox_to_anchor=(0.5, 0.5), prop={\"size\":12}, ncol=5)\nfigl.set_size_inches(10, 0.5)\nplt.tight_layout(pad=1.5)\n\nfigl.savefig(op.join(path_fig, 'loc_err_legend.png'))\n\n# 7.3. Distinhuishability index\n_aux = np.array([-0.01, 0.005, -0.005, 0.01])\nf_DI = plt.figure()\nfor idx_k, knn in enumerate(knn_tot):\n    plt.errorbar(gamma_tot+_aux[idx_k], dist_index_ave[idx_k, :], \n                 yerr=dist_index_sem[idx_k, :], \n                 label='$k$ = %d'%knn, color=colors[idx_k], \n                 zorder=idx_k)\nplt.errorbar(gamma_tot, \n         dist_index_an_ave*np.ones(np.size(gamma_tot)), \n         yerr=dist_index_an_sem*np.ones(np.size(gamma_tot)), fmt='k--', \n         label='DK')\nplt.legend(bbox_to_anchor=(1.05, 1.0), loc='upper left',fontsize=18)\nplt.xlabel(r'Weight of the spatial distances', fontsize=25)\nplt.ylabel(r'Distinguishability index', fontsize=25)\nplt.ylim(0, 1)\nplt.xlim(-0.05, 1.05)\nplt.xticks(gamma_tot)\n\nf_DI.set_size_inches(9, 5.5)\nplt.tight_layout(pad=1.5)\nf_DI.savefig(op.join(path_fig, 'dist_index_%s.png'%method))"
      ]
    },
    {
      "cell_type": "markdown",
      "metadata": {},
      "source": [
        "Additional plots\nAP1. Statistical test\n\n"
      ]
    },
    {
      "cell_type": "code",
      "execution_count": null,
      "metadata": {
        "collapsed": false
      },
      "outputs": [],
      "source": [
        "f_test = plt.figure()\nfor idx_k, knn in enumerate(knn_tot):\n    plt.plot(gamma_tot, di_p_values[idx_k, :], \n                 label='$k$ = %d'%knn, color=colors[idx_k], \n                 zorder=idx_k)\nplt.yscale('log')\nplt.legend()\nplt.xlabel(r'Weight of the spatial distances', fontsize=30)\nplt.ylabel(r'p value', fontsize=30)\nplt.xlim(-0.05, 1.05)\n\nf_test.set_size_inches(9, 5.5)\nplt.tight_layout(pad=1.5)\nf_test.savefig(op.join(path_fig, 'dist_index_%s_ttest.png'%method))"
      ]
    },
    {
      "cell_type": "code",
      "execution_count": null,
      "metadata": {
        "collapsed": false
      },
      "outputs": [],
      "source": [
        "print(di_p_values<0.001)\nprint(di_p_values)"
      ]
    }
  ],
  "metadata": {
    "kernelspec": {
      "display_name": "Python 3",
      "language": "python",
      "name": "python3"
    },
    "language_info": {
      "codemirror_mode": {
        "name": "ipython",
        "version": 3
      },
      "file_extension": ".py",
      "mimetype": "text/x-python",
      "name": "python",
      "nbconvert_exporter": "python",
      "pygments_lexer": "ipython3",
      "version": "3.10.10"
    }
  },
  "nbformat": 4,
  "nbformat_minor": 0
}
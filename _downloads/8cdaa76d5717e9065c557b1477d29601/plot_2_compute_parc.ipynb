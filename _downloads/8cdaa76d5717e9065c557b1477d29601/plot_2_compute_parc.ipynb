{
  "cells": [
    {
      "cell_type": "markdown",
      "metadata": {},
      "source": [
        "\n# Create multiple MEG informed cortical parcellations for further analysis\nCompute the lead-field based MEG informed cortical parcellations that will\nbe used to investigate the test the proposed method.\n"
      ]
    },
    {
      "cell_type": "markdown",
      "metadata": {},
      "source": [
        "Import the required packages\n\n"
      ]
    },
    {
      "cell_type": "code",
      "execution_count": null,
      "metadata": {
        "collapsed": false
      },
      "outputs": [],
      "source": [
        "import os\nimport os.path as op\nimport numpy as np\nimport pickle\n\nfrom mne import (read_forward_solution, pick_types_forward,\n                 convert_forward_solution, read_source_spaces,\n                 read_labels_from_annot)\nfrom mne.datasets import sample\n\nfrom megicparc import compute_distance_matrix, compute_parcellation"
      ]
    },
    {
      "cell_type": "markdown",
      "metadata": {},
      "source": [
        "Define input parameters for the flame algorithm running in megicperc\n\n"
      ]
    },
    {
      "cell_type": "code",
      "execution_count": null,
      "metadata": {
        "collapsed": false
      },
      "outputs": [],
      "source": [
        "gamma_tot = np.arange(0, 1.01, 0.2)\nknn_tot = [10, 20, 30, 40]\ntheta = 0.05\nparc = 'aparc'\nsensors_meg = 'grad'\n\nfolder_fl = op.join('..', 'data', 'data_mne_sample')\nstring_target_file = op.join(folder_fl,\n                        '{:s}_flame_grad_k{:d}_gamma{:1.2f}_theta{:1.2f}.pkl')"
      ]
    },
    {
      "cell_type": "markdown",
      "metadata": {},
      "source": [
        "Load lead-field matrix and source-space\n\n"
      ]
    },
    {
      "cell_type": "code",
      "execution_count": null,
      "metadata": {
        "collapsed": false
      },
      "outputs": [],
      "source": [
        "data_path = sample.data_path()\nsubjects_dir = op.join(data_path, 'subjects')\nsubject = 'sample'\nfwd_file = op.join(data_path, 'MEG', subject, 'sample_audvis-meg-eeg-oct-6-fwd.fif')\nsrc_file = op.join(folder_fl, 'source_space_distance-src.fif')\n\nfwd = read_forward_solution(fwd_file)\nfwd = pick_types_forward(fwd, meg=sensors_meg, eeg=False,\n                         ref_meg=False, exclude='bads')\nfwd = convert_forward_solution(fwd, surf_ori=True, force_fixed=True,\n                               use_cps=True)\nsrc = read_source_spaces(src_file)\nfwd['src'] = src"
      ]
    },
    {
      "cell_type": "markdown",
      "metadata": {},
      "source": [
        "Load the cortical atlas\n\n"
      ]
    },
    {
      "cell_type": "code",
      "execution_count": null,
      "metadata": {
        "collapsed": false
      },
      "outputs": [],
      "source": [
        "label_lh = read_labels_from_annot(subject=subject, parc=parc, hemi='lh',\n                                  subjects_dir=subjects_dir)\nlabel_rh = read_labels_from_annot(subject=subject, parc=parc, hemi='rh',\n                                  subjects_dir=subjects_dir)\nlabel = label_lh + label_rh"
      ]
    },
    {
      "cell_type": "markdown",
      "metadata": {},
      "source": [
        "Compute and save MEG-informed parcellations\n\n"
      ]
    },
    {
      "cell_type": "code",
      "execution_count": null,
      "metadata": {
        "collapsed": false
      },
      "outputs": [],
      "source": [
        "for gamma in gamma_tot:\n    sort_dist = compute_distance_matrix(fwd, gamma=gamma,\n                                        theta=theta, labels=label)\n    for knn in knn_tot:\n\n        target_file = string_target_file.format(\n            subject, knn, gamma, theta)\n\n        if op.exists(target_file):\n            print('The following file already exists: %s' %target_file)\n        else:\n            flame_data = compute_parcellation(sort_dist, k_nn=knn)\n            # - Save\n            print('Saving %s' % target_file)\n            aux_f = open(target_file, 'wb')\n            pickle.dump(flame_data, aux_f, protocol=2)\n            aux_f.close()\n\n            del flame_data\n    del sort_dist"
      ]
    },
    {
      "cell_type": "markdown",
      "metadata": {},
      "source": [
        "Compute and save MEG-informed parcellations for theta=0 and\nk = 30\n\n"
      ]
    },
    {
      "cell_type": "code",
      "execution_count": null,
      "metadata": {
        "collapsed": false
      },
      "outputs": [],
      "source": [
        "theta_aux = 0\nknn_aux = 30\n\nfor gamma in gamma_tot:\n    sort_dist = compute_distance_matrix(fwd, gamma=gamma,\n                                        theta=theta_aux, labels=label)\n    target_file = string_target_file.format(\n        subject, knn_aux, gamma, theta_aux)\n    if op.exists(target_file):\n            print('The following file already exists: %s' %target_file)\n    else:\n        flame_data = compute_parcellation(sort_dist, k_nn=knn_aux)\n        # - Save\n        print('Saving %s' % target_file)\n        aux_f = open(target_file, 'wb')\n        pickle.dump(flame_data, aux_f, protocol=2)\n        aux_f.close()\n        del flame_data\n    del sort_dist\n\n\"\""
      ]
    }
  ],
  "metadata": {
    "kernelspec": {
      "display_name": "Python 3",
      "language": "python",
      "name": "python3"
    },
    "language_info": {
      "codemirror_mode": {
        "name": "ipython",
        "version": 3
      },
      "file_extension": ".py",
      "mimetype": "text/x-python",
      "name": "python",
      "nbconvert_exporter": "python",
      "pygments_lexer": "ipython3",
      "version": "3.10.10"
    }
  },
  "nbformat": 4,
  "nbformat_minor": 0
}
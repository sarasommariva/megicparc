{
  "cells": [
    {
      "cell_type": "markdown",
      "metadata": {},
      "source": [
        "\n# Structural poperties of the MEG-informed parcellations\n"
      ]
    },
    {
      "cell_type": "markdown",
      "metadata": {},
      "source": [
        "Import the required packages\n\n"
      ]
    },
    {
      "cell_type": "code",
      "execution_count": null,
      "metadata": {
        "collapsed": false
      },
      "outputs": [],
      "source": [
        "import os.path as op\nimport numpy as np\nimport pickle\n\nimport matplotlib.pyplot as plt\nimport matplotlib.patches as patches\n\nfrom mne import (read_forward_solution, pick_types_forward, \n                 convert_forward_solution, read_labels_from_annot,\n                 spatial_src_adjacency, read_source_spaces) \nfrom mne.viz import get_brain_class\nfrom mne.datasets import sample\n\nimport megicparc"
      ]
    },
    {
      "cell_type": "markdown",
      "metadata": {},
      "source": [
        "Define input parameters for the flame algorithm running in megicperc\n\n"
      ]
    },
    {
      "cell_type": "code",
      "execution_count": null,
      "metadata": {
        "collapsed": false
      },
      "outputs": [],
      "source": [
        "gamma_tot = np.arange(0, 1.01, 0.2)\nknn_tot = [10, 20, 30, 40]\ntheta = 0.05\nparc = 'aparc'\nsensors_meg = 'grad'\n\nfolder_fl = op.join('..', 'data', 'data_mne_sample')\nstring_target_file = op.join(folder_fl,\n                        '{:s}_flame_grad_k{:d}_gamma{:1.2f}_theta{:1.2f}.pkl')"
      ]
    },
    {
      "cell_type": "markdown",
      "metadata": {},
      "source": [
        "Load lead-field matrix, source-space and anatomy-based Atlas\n\n"
      ]
    },
    {
      "cell_type": "code",
      "execution_count": null,
      "metadata": {
        "collapsed": false
      },
      "outputs": [],
      "source": [
        "data_path = sample.data_path()\nsubjects_dir = op.join(data_path, 'subjects')\nsubject = 'sample'\nfwd_file = op.join(data_path, 'MEG', subject, 'sample_audvis-meg-eeg-oct-6-fwd.fif')\nsrc_file = op.join(folder_fl, 'source_space_distance-src.fif')\n\nfwd = read_forward_solution(fwd_file)\nfwd = pick_types_forward(fwd, meg=sensors_meg, eeg=False,\n                         ref_meg=False, exclude='bads')\nfwd = convert_forward_solution(fwd, surf_ori=True, force_fixed=True,\n                               use_cps=True)\nsrc = read_source_spaces(src_file)\nfwd['src'] = src\nn_vert = fwd['src'][0]['nuse'] + fwd['src'][1]['nuse']\n\nlabel_lh = read_labels_from_annot(subject=subject, parc=parc, hemi='lh',\n                                  subjects_dir=subjects_dir)\nlabel_rh = read_labels_from_annot(subject=subject, parc=parc, hemi='rh',\n                                  subjects_dir=subjects_dir)\nlabel = label_lh + label_rh"
      ]
    },
    {
      "cell_type": "markdown",
      "metadata": {},
      "source": [
        "Initialization\n\n"
      ]
    },
    {
      "cell_type": "code",
      "execution_count": null,
      "metadata": {
        "collapsed": false
      },
      "outputs": [],
      "source": [
        "num_roi = np.zeros((np.size(knn_tot), np.size(gamma_tot)))\nn_cc = {x : [] for x in \\\n        ['k%d_gamma%1.2f'%(knn, gamma) for knn in knn_tot for gamma in gamma_tot]}\ncoverage = np.zeros((np.size(knn_tot), np.size(gamma_tot)))"
      ]
    },
    {
      "cell_type": "markdown",
      "metadata": {},
      "source": [
        "Analysis with anatomy-based parcels.\n\n"
      ]
    },
    {
      "cell_type": "code",
      "execution_count": null,
      "metadata": {
        "collapsed": false
      },
      "outputs": [],
      "source": [
        "proj_anrois = megicparc.labels_to_array(label, fwd['src'])\n\n#   Number of regions\nif proj_anrois['outliers'] > 0:\n    aux_num_roi = len(proj_anrois['parcel']) - 1\nelse:\n    aux_num_roi = len(proj_anrois['parcel'])\nnum_roi_an = aux_num_roi\n#   Coverage\ncoverage_an = 100 * (n_vert - proj_anrois['outliers']) / n_vert"
      ]
    },
    {
      "cell_type": "markdown",
      "metadata": {},
      "source": [
        "Analysis with meg-informed parcels\n\n"
      ]
    },
    {
      "cell_type": "code",
      "execution_count": null,
      "metadata": {
        "collapsed": false
      },
      "outputs": [],
      "source": [
        "bmesh_adj_mat = np.array(spatial_src_adjacency(fwd['src']).todense())\n\nfor idx_g, gamma in enumerate(gamma_tot):\n    for idx_k, knn in enumerate(knn_tot):\n\n        target_file = string_target_file.format(\n                        subject, knn, gamma, theta)\n        print('Loading %s'%target_file)\n        with open(target_file, 'rb') as aux_lf:\n            flame_data = pickle.load(aux_lf)\n\n            # Number of regions\n            num_roi[idx_k, idx_g] = flame_data['centroids']\n            # Coverage\n            coverage[idx_k, idx_g] = \\\n                    100 * (n_vert - flame_data['outliers']) / n_vert\n            # Number of connected components\n            n_cc['k%d_gamma%1.2f'%(knn, gamma)] += \\\n                 [len(megicparc.compute_connected_components(\n                         bmesh_adj_mat, flame_data['parcel'][ir])) \\\n                         for ir in range(flame_data['centroids'])]"
      ]
    },
    {
      "cell_type": "markdown",
      "metadata": {},
      "source": [
        "Compute mean and SEM of the number of connected components over the regions\nof a MEG-informed parcellations\n\n"
      ]
    },
    {
      "cell_type": "code",
      "execution_count": null,
      "metadata": {
        "collapsed": false
      },
      "outputs": [],
      "source": [
        "n_cc_ave = np.zeros((np.size(knn_tot), np.size(gamma_tot)))\nn_cc_sem = np.zeros((np.size(knn_tot), np.size(gamma_tot)))\n\nfor idx_g, gamma in enumerate(gamma_tot):\n    for idx_k, knn in enumerate(knn_tot):\n        aux_cc = np.asanyarray(n_cc['k%d_gamma%1.2f'%(knn, gamma)])\n        n_cc_ave[idx_k, idx_g] = np.mean(aux_cc)\n        n_cc_sem[idx_k, idx_g] = np.std(aux_cc, ddof=1) / np.sqrt(np.size(aux_cc))"
      ]
    },
    {
      "cell_type": "markdown",
      "metadata": {},
      "source": [
        "Additional analysis: impact of the anatomical constraints\n\n"
      ]
    },
    {
      "cell_type": "code",
      "execution_count": null,
      "metadata": {
        "collapsed": false
      },
      "outputs": [],
      "source": [
        "k_nn_ac = [30]\ntheta_ac = [0, 0.05]\ngamma_ac = np.arange(1, 0.4, -0.2)\n\ntolls = [0.05]\n\nspread = {}\nnum_roi_constr = {}\n\nfor idx_t, theta in enumerate(theta_ac):\n    for idx_k, knn in enumerate(k_nn_ac):\n        for idx_g, gamma in enumerate(gamma_ac):\n#           6.1. Reload parcellation                 \n            target_file = string_target_file.format(subject, knn, gamma, \n                                                    theta)\n            print('Loading %s'%target_file)\n            with open(target_file, 'rb') as aux_lf:\n                flame_data = pickle.load(aux_lf)\n\n            num_roi_constr['k%d_gamma%1.2f_theta%1.2f'%(knn, gamma, theta)] = \\\n                flame_data['centroids']\n#           6.2. Compute cotingency matrix\n            conting_mat = np.array([\n                    np.array([\n                    np.intersect1d(p_fl, p_an).shape[0] \n                    for p_an in proj_anrois['parcel']]) \n                    for p_fl in flame_data['parcel'][0:flame_data['centroids']]])\n            conting_mat = conting_mat / \\\n                    np.sum(conting_mat, axis=1)[:, np.newaxis]\n#           6.3. Compute spread of flame regions over anatomical\n            spread['k%d_gamma%1.2f_theta%1.2f'%(knn, gamma, theta)] = \\\n                np.zeros((flame_data['centroids'], np.size(tolls)))\n\n            for idx_t, toll in enumerate(tolls):\n                spread['k%d_gamma%1.2f_theta%1.2f'%(knn, gamma, theta)] [:, idx_t] = \\\n                    np.sum(conting_mat > toll, axis=1)"
      ]
    },
    {
      "cell_type": "markdown",
      "metadata": {},
      "source": [
        "General parameters for plotting\n\n"
      ]
    },
    {
      "cell_type": "code",
      "execution_count": null,
      "metadata": {
        "collapsed": false
      },
      "outputs": [],
      "source": [
        "plt.rc('text', usetex=True)\nplt.rc('font', family='serif', size=22)\nplt.rcParams['axes.grid'] = True\nplt.rcParams['lines.linewidth'] = 3\nplt.rcParams['errorbar.capsize'] = 3.5\nplt.rcParams[\"figure.figsize\"] = [12, 8]\nplt.rcParams['patch.force_edgecolor'] = True\n\ncolors = np.array([np.array([0, 1, 0]), \n                  np.array([0, 0, 1]), \n                  np.array([1, 0, 0]), \n                  np.array([0, 0.9655, 1])])"
      ]
    },
    {
      "cell_type": "markdown",
      "metadata": {},
      "source": [
        "Plot 1. Number of regions\n\n"
      ]
    },
    {
      "cell_type": "code",
      "execution_count": null,
      "metadata": {
        "collapsed": false
      },
      "outputs": [],
      "source": [
        "f_numreg = plt.figure()\nfor idx_k, knn in enumerate(knn_tot):\n    plt.plot(gamma_tot, num_roi[idx_k,], color=colors[idx_k], \n                 label='$k$ = %d'%knn)\nplt.plot(gamma_tot, num_roi_an*np.ones(np.size(gamma_tot)),\n             'k--', label='DK')\nplt.legend(loc=[0.68, 0.47], fontsize=18)\nplt.xlabel(r'Weight of the spatial distances', fontsize=25)\nplt.ylabel(r'Number of parcels', fontsize=25)\nplt.ylim(0, 350)\nplt.xlim(-0.05, 1.05)\n\nf_numreg.set_size_inches(8.5, 6)\nplt.tight_layout(pad=1.5)"
      ]
    },
    {
      "cell_type": "markdown",
      "metadata": {},
      "source": [
        "Plot 2. Number of connected components\n\n"
      ]
    },
    {
      "cell_type": "code",
      "execution_count": null,
      "metadata": {
        "collapsed": false
      },
      "outputs": [],
      "source": [
        "f_cc = plt.figure()\nfor idx_k, knn in enumerate(knn_tot):\n    plt.errorbar(gamma_tot, n_cc_ave[idx_k, :], yerr=n_cc_sem[idx_k, :],\n                 label='$k$ = %d'%knn, color=colors[idx_k])\nplt.legend(fontsize=18)\nplt.xlabel(r'Weight of the spatial distances', fontsize=25)\nplt.ylabel(r'Number connected components', fontsize=25)\nplt.ylim(0, 30)\nplt.xlim(-0.05, 1.05)\n#plt.show()\n\nf_cc.set_size_inches(8.5, 6)\nplt.tight_layout(pad=1.5)"
      ]
    },
    {
      "cell_type": "markdown",
      "metadata": {},
      "source": [
        ". Plot 3. (Additional) Impact of anatomical constraints\n\n"
      ]
    },
    {
      "cell_type": "code",
      "execution_count": null,
      "metadata": {
        "collapsed": false
      },
      "outputs": [],
      "source": [
        "bins = np.arange(-0.5, 69, 1)\nalpha = 0.7\n\nknn = k_nn_ac[0]\ntoll = tolls[0]\n\nfac, axac = plt.subplots(1, np.size(gamma_ac), figsize=[13, 5])\n#fac.suptitle('$k =$ %d'%knn)\nidx_t = 0\n\nfor idx_g, gamma in enumerate(gamma_ac):\n    aux_th1 = spread['k%d_gamma%1.2f_theta%1.2f'%(knn, gamma, theta_ac[1])][:, idx_t] \n    axac[idx_g].hist(aux_th1, bins=bins, alpha=alpha,\n                    weights=np.ones_like(aux_th1)/np.shape(aux_th1)[0]*100, \n                    label=r'$\\theta = $ %1.2f'%theta_ac[1])\n    aux_th2 = spread['k%d_gamma%1.2f_theta%1.2f'%(knn, gamma, theta_ac[0])] [:, idx_t]\n    axac[idx_g].hist(aux_th2, bins=bins, alpha=alpha, \n                    weights=np.ones_like(aux_th2)/np.shape(aux_th2)[0]*100, \n                    label=r'$\\theta = $ %1.2f'%theta_ac[0])\n    axac[idx_g].set_ylim(0, 100)\n    axac[idx_g].set_xlim(-0.5, 10.5)\n    #axac[idx_t, idx_g].legend()\n\n    if idx_t == 0:\n        axac[idx_g].set_title(r'$\\gamma = %1.1f$ '%(gamma)) \n        axac[idx_g].set_xticks(np.arange(1, 11, 2))\n        axac[idx_g].text(6.5, 85, '%d ;'%(num_roi_constr['k%d_gamma%1.2f_theta0.05'%(knn, gamma)]), \n                         ha='center', color='dodgerblue', fontweight='bold')\n        axac[idx_g].text(8.5, 85, '%d'%(num_roi_constr['k%d_gamma%1.2f_theta0.00'%(knn, gamma)]), \n                         ha='center', color='darkorange', fontweight='bold')\n        axac[idx_g].text(7.2, 75, 'parcels', ha='center')\n        rect = patches.FancyBboxPatch((5, 72), 4.5, 22, \n                                  boxstyle='round', facecolor='white', \n                                 edgecolor='lightgray', zorder=2)\n        axac[idx_g].add_patch(rect)\n    else:\n        axac[idx_g].set_xticks(np.arange(1, 11, 2))\n\n    if idx_g == 0:\n        axac[idx_g].set_ylabel(\n            r'Number of parcels ($\\%$)', \n                         fontsize=30)\n    else:\n        axac[idx_g].set_yticklabels([])\n\naxac[-1].legend(bbox_to_anchor=(1, 0.5), loc='center left',\n            borderaxespad=0.2)\nfac.text(0.45, 0.02, 'Number of intersecting atlas parcels', ha='center', \n          fontsize=30)\nplt.tight_layout(pad=1.5)\n\n\ngamma_tplot = np.arange(0, 1, 0.1)\ntheta_tplot = np.array([0.01, 0.025, 0.05, 0.1, 0.2])\nf_tg = np.array([theta * (gamma_tplot / (1-gamma_tplot)) \\\n             for theta in theta_tplot])\n\ncolors_tplot = np.array([np.array([0, 1, 0]),\n        np.array([0, 0, 1]), np.array([1, 0, 0]),\n        np.array([0, 0.9655, 1]), np.array([1, 0.4828, 0.8621])])\n\nf_tplot = plt.figure()\nfor idx_t, theta in enumerate(theta_tplot):\n    plt.plot(gamma_tplot, f_tg[idx_t],\n         label=r'$\\theta$ = %1.3f'%theta, color=colors_tplot[idx_t])\nplt.legend()\nplt.xlim([0, 0.9])\nplt.ylim([0, 2])\nplt.xlabel(r'$\\gamma$', fontsize=30)\nplt.ylabel(r'$\\theta$ $\\frac{\\gamma}{1-\\gamma}$', fontsize=30)\n\nf_tplot.set_size_inches(8, 6.5)"
      ]
    },
    {
      "cell_type": "markdown",
      "metadata": {},
      "source": [
        "Plot 5. Spatial cohesion\n\n"
      ]
    },
    {
      "cell_type": "code",
      "execution_count": null,
      "metadata": {
        "collapsed": false
      },
      "outputs": [],
      "source": [
        "Brain = get_brain_class()\n             \nknn_plot = 30\ngamma_plot = [0, 0.4, 0.6, 1]\ntheta_plot = 0.05\ncart_coord = [-0.03, 0.025, 0.08]\n\nsrc = fwd['src']\nV = np.concatenate((src[0]['rr'][src[0]['vertno']],\n               src[1]['rr'][src[1]['vertno']]), axis=0)\nnvert = src[0]['nuse'] + src[1]['nuse']\n\nidx_vert = np.argmin(np.linalg.norm(V - cart_coord, axis=1))\n\nfor gamma in gamma_plot:\n    target_file = string_target_file.format(\n                        subject, knn_plot, gamma, theta_plot)\n    print('Loading %s'%target_file)\n    with open(target_file, 'rb') as aux_lf:\n        flame_data = pickle.load(aux_lf)\n    flame_labels = megicparc.store_flame_labels(flame_data, src, subject)\n\n    parcels_vector = np.zeros(nvert, dtype='int') - 1\n    for ir in range(flame_data['centroids']):\n        parcels_vector[flame_data['parcel'][ir]] = ir\n    sel_roi = parcels_vector[idx_vert]\n    index = [sel_roi + 1]\n              \n    brain = megicparc.plot_flame_labels(index, flame_labels, src, subject,\n            subjects_dir, surf='inflated', color = [1, 0.64, 0.],\n            plot_region=True, plot_points=False, plot_borders=False)\n    brain.show_view(azimuth=173, elevation= 60)"
      ]
    },
    {
      "cell_type": "markdown",
      "metadata": {},
      "source": [
        "Plot 7. Reduced source space on top of DK atlas   \n\n"
      ]
    },
    {
      "cell_type": "code",
      "execution_count": null,
      "metadata": {
        "collapsed": false
      },
      "outputs": [],
      "source": [
        "brain_redV = Brain(subject, hemi='both', surf='inflated', \n    background='white', subjects_dir=subjects_dir, alpha=1)\n#   Superimpose anatomical regions\nfor ir in range(len(label)):\n    brain_redV.add_label(label[ir], hemi=label[ir].hemi, alpha=0.9) \n\n#  Superimpose centroids    \nmegicparc.plot_flame_centroids(flame_data, src, subject, subjects_dir, \n                           brain_redV)\n\nbrain_redV.show_view(azimuth=170, elevation=90)\n\n\"\""
      ]
    }
  ],
  "metadata": {
    "kernelspec": {
      "display_name": "Python 3",
      "language": "python",
      "name": "python3"
    },
    "language_info": {
      "codemirror_mode": {
        "name": "ipython",
        "version": 3
      },
      "file_extension": ".py",
      "mimetype": "text/x-python",
      "name": "python",
      "nbconvert_exporter": "python",
      "pygments_lexer": "ipython3",
      "version": "3.10.10"
    }
  },
  "nbformat": 4,
  "nbformat_minor": 0
}
{
  "cells": [
    {
      "cell_type": "markdown",
      "metadata": {},
      "source": [
        "\n# Functional poperties of the MEG-informed parcellations\n"
      ]
    },
    {
      "cell_type": "markdown",
      "metadata": {},
      "source": [
        "Import the required packages\n\n"
      ]
    },
    {
      "cell_type": "code",
      "execution_count": null,
      "metadata": {
        "collapsed": false
      },
      "outputs": [],
      "source": [
        "import os.path as op\nimport numpy as np\nimport pickle\n\nfrom mne import (read_forward_solution, pick_types_forward,\n                 convert_forward_solution, read_source_spaces,\n                 read_labels_from_annot)\nfrom mne.datasets import sample\n\nimport megicparc\nfrom megicparc.utils import compute_inv_op_rank, collapse_RM\n\nimport matplotlib.pyplot as plt"
      ]
    },
    {
      "cell_type": "markdown",
      "metadata": {},
      "source": [
        "Define input parameters for the flame algorithm running in megicperc\n\n"
      ]
    },
    {
      "cell_type": "code",
      "execution_count": null,
      "metadata": {
        "collapsed": false
      },
      "outputs": [],
      "source": [
        "gamma_tot = np.arange(0, 1.01, 0.2)\nknn_tot = [10, 20, 30, 40]\ntheta = 0.05\nparc = 'aparc'\nsensors_meg = 'grad'\n\nfolder_fl = op.join('..', 'data', 'data_mne_sample')\nstring_target_file = op.join(folder_fl,\n                        '{:s}_flame_grad_k{:d}_gamma{:1.2f}_theta{:1.2f}.pkl')"
      ]
    },
    {
      "cell_type": "markdown",
      "metadata": {},
      "source": [
        "Load lead-field matrix, source-space and anatomy-based Atlas\n\n"
      ]
    },
    {
      "cell_type": "code",
      "execution_count": null,
      "metadata": {
        "collapsed": false
      },
      "outputs": [],
      "source": [
        "data_path = sample.data_path()\nsubjects_dir = op.join(data_path, 'subjects')\nsubject = 'sample'\nfwd_file = op.join(data_path, 'MEG', subject, 'sample_audvis-meg-eeg-oct-6-fwd.fif')\nsrc_file = op.join(folder_fl, 'source_space_distance-src.fif')\n\nfwd = read_forward_solution(fwd_file)\nfwd = pick_types_forward(fwd, meg=sensors_meg, eeg=False,\n                         ref_meg=False, exclude='bads')\nfwd = convert_forward_solution(fwd, surf_ori=True, force_fixed=True,\n                               use_cps=True)\nsrc = read_source_spaces(src_file)\nfwd['src'] = src\n\nlabel_lh = read_labels_from_annot(subject=subject, parc=parc, hemi='lh',\n                                  subjects_dir=subjects_dir)\nlabel_rh = read_labels_from_annot(subject=subject, parc=parc, hemi='rh',\n                                  subjects_dir=subjects_dir)\nlabel = label_lh + label_rh"
      ]
    },
    {
      "cell_type": "markdown",
      "metadata": {},
      "source": [
        "Parameters for inverse modeling\n\n"
      ]
    },
    {
      "cell_type": "code",
      "execution_count": null,
      "metadata": {
        "collapsed": false
      },
      "outputs": [],
      "source": [
        "snr = 3\nlam = 1. / snr\nmethod = 'dSPM' # dSPM or MNE or sLORETA\ndepth = None\nmode_labels = 'mean_flip'\n\nn_vert = fwd['src'][0]['nuse'] + fwd['src'][1]['nuse']\nL = fwd['sol']['data']\nsigma = np.mean(np.mean(L**2, axis=0)) / snr\nC = sigma * np.eye(L.shape[0])"
      ]
    },
    {
      "cell_type": "markdown",
      "metadata": {},
      "source": [
        "Initialization\n\n"
      ]
    },
    {
      "cell_type": "code",
      "execution_count": null,
      "metadata": {
        "collapsed": false
      },
      "outputs": [],
      "source": [
        "eucl_errors_full = []\neucl_errors = {x : [] for x in \\\n    ['k%d_gamma%1.2f'%(knn, gamma) for knn in knn_tot for gamma in gamma_tot]}\n\ncorrect_roi = np.zeros((np.size(knn_tot), np.size(gamma_tot)))\ncorrect_roi_full = np.zeros((np.size(knn_tot), np.size(gamma_tot)))\n\ndist_index = np.zeros((np.size(knn_tot), np.size(gamma_tot)))"
      ]
    },
    {
      "cell_type": "markdown",
      "metadata": {},
      "source": [
        "Analysis with anatomy-based parcels.\n\n"
      ]
    },
    {
      "cell_type": "code",
      "execution_count": null,
      "metadata": {
        "collapsed": false
      },
      "outputs": [],
      "source": [
        "proj_anrois = megicparc.labels_to_array(label, fwd['src'])\nif proj_anrois['outliers'] > 0:\n    aux_num_roi = len(proj_anrois['parcel']) - 1\nelse:\n    aux_num_roi = len(proj_anrois['parcel'])\n\n# Source estimation and localization error on full source space \nW_full = compute_inv_op_rank(L, C, lam, \n                    depth=depth, method=method, rank=None)\nR_full = np.dot(W_full, L)\npeak_full = np.argmax(R_full**2, axis=0)\n\nee_full = megicparc.compute_localization_error(peak_full, \n                                 np.arange(n_vert), fwd['src'])\neucl_errors_full += ee_full.tolist()\n\n# Resolution matrix related evaluation criteria\nR_an = collapse_RM(R_full, label, fwd['src'], mode_labels)\n\npeak_c_an = np.argmax(abs(R_an), axis=0)\ntrue_c_an = megicparc.membership2vector( \n                    proj_anrois['parcel'][:aux_num_roi], n_vert)\ncorrect_roi_an = np.count_nonzero(true_c_an == peak_c_an)/n_vert*100\ncorrect_roi_an_full = np.count_nonzero(true_c_an[peak_full] == peak_c_an) \\\n                                /n_vert*100                                   \n_, dist_index_an = megicparc.compute_distinguishability_index(\n                    R_an, proj_anrois['parcel'], aux_num_roi)"
      ]
    },
    {
      "cell_type": "markdown",
      "metadata": {},
      "source": [
        "Analysis with meg-informed parcels\n\n"
      ]
    },
    {
      "cell_type": "code",
      "execution_count": null,
      "metadata": {
        "collapsed": false
      },
      "outputs": [],
      "source": [
        "for idx_g, gamma in enumerate(gamma_tot):\n    for idx_k, knn in enumerate(knn_tot):\n        \n        target_file = string_target_file.format(\n                        subject, knn, gamma, theta)\n        print('Loading %s'%target_file)\n        with open(target_file, 'rb') as aux_lf:\n            flame_data = pickle.load(aux_lf)\n\n        # 1. Compute RMs\n        L_fl = L[:, flame_data['centroids_id']]\n        W_fl = compute_inv_op_rank(L_fl, C, lam, \n                                 depth=depth, method=method)\n        R_fl = np.dot(W_fl, L)\n\n        peak_c = np.argmax(abs(R_fl), axis=0)\n\n        # 2. Compute localization errors\n        ee = megicparc.compute_localization_error(peak_c, \n                                flame_data['centroids_id'], fwd['src'])\n        eucl_errors['k%d_gamma%1.2f'%(knn, gamma)] += ee.tolist()\n\n\n        # 3. Correctly identified regions\n        true_c = megicparc.membership2vector( \n                 flame_data['parcel'][:flame_data['centroids']], n_vert)\n        correct_roi[idx_k, idx_g] = \\\n            np.count_nonzero(true_c == peak_c)/n_vert*100\n        correct_roi_full[idx_k, idx_g] = \\\n            np.count_nonzero(true_c[peak_full] == peak_c)/n_vert*100\n\n        # 4. compute DI\n        _, DI = megicparc.compute_distinguishability_index(\n                R_fl, flame_data['parcel'], flame_data['centroids'])\n        dist_index[idx_k, idx_g] = DI\n        \n        del flame_data"
      ]
    },
    {
      "cell_type": "markdown",
      "metadata": {},
      "source": [
        "Compute mean and SEM of the euclidean localication error over the points\nof the source-space\n\n"
      ]
    },
    {
      "cell_type": "code",
      "execution_count": null,
      "metadata": {
        "collapsed": false
      },
      "outputs": [],
      "source": [
        "# Anatomy-based parcels     \naux_ee = np.asanyarray(eucl_errors_full)\neucl_err_full_ave = np.mean(aux_ee)\neucl_err_full_sem = np.std(aux_ee, ddof=1) / np.sqrt(np.size(aux_ee))\n\n# MEG-informed parcels\neucl_err_ave = np.zeros((np.size(knn_tot), np.size(gamma_tot)))\neucl_err_sem = np.zeros((np.size(knn_tot), np.size(gamma_tot)))\nfor idx_g, gamma in enumerate(gamma_tot):\n    for idx_k, knn in enumerate(knn_tot):\n\n        aux_ee = np.asanyarray(eucl_errors['k%d_gamma%1.2f'%(knn, gamma)])\n        eucl_err_ave[idx_k, idx_g] = np.mean(aux_ee)\n        eucl_err_sem[idx_k, idx_g] = np.std(aux_ee, ddof=1) / np.sqrt(np.size(aux_ee))"
      ]
    },
    {
      "cell_type": "markdown",
      "metadata": {},
      "source": [
        "Define general settings for plotting\n\n"
      ]
    },
    {
      "cell_type": "code",
      "execution_count": null,
      "metadata": {
        "collapsed": false
      },
      "outputs": [],
      "source": [
        "plt.rc('text', usetex=True)\nplt.rc('font', family='serif', size=22)\nplt.rcParams['axes.grid'] = True\nplt.rcParams['lines.linewidth'] = 3\nplt.rcParams['errorbar.capsize'] = 3.5\nplt.rcParams[\"figure.figsize\"] = [12, 8]\nplt.rcParams['patch.force_edgecolor'] = True\n\ncolors = np.array([np.array([0, 1, 0]), \n                  np.array([0, 0, 1]), \n                  np.array([1, 0, 0]), \n                  np.array([0, 0.9655, 1])])"
      ]
    },
    {
      "cell_type": "markdown",
      "metadata": {},
      "source": [
        "Plot Euclidean localization error\n\n"
      ]
    },
    {
      "cell_type": "code",
      "execution_count": null,
      "metadata": {
        "collapsed": false
      },
      "outputs": [],
      "source": [
        "f_ee = plt.figure()\nplt.errorbar(gamma_tot, eucl_err_full_ave*np.ones(np.size(gamma_tot)), \n             yerr=eucl_err_full_sem*np.ones(np.size(gamma_tot)),\n             fmt='k--', label='full source-space')\nfor idx_k, knn in enumerate(knn_tot):\n    plt.errorbar(gamma_tot, \n                 eucl_err_ave[idx_k, :], yerr=eucl_err_sem[idx_k, :],\n                 label='$k$ = %d'%knn, color=colors[idx_k])\nplt.xlabel(r'Weight of the spatial distances', fontsize=30)\nplt.ylabel(r'Localization error (mm)', fontsize=30)\nplt.xlim(-0.1, 1.1)\nplt.legend()\nif method == 'dSPM': \n    plt.ylim(10, 25)\nelse:\n    plt.ylim(0, 27)\nplt.xticks(gamma_tot)\nplt.legend(bbox_to_anchor=(1.05, 1.0), loc='upper left',fontsize=18)\nf_ee.set_size_inches(9, 5.5)\nplt.tight_layout(pad=1)"
      ]
    },
    {
      "cell_type": "markdown",
      "metadata": {},
      "source": [
        "Plot percentage of corrected identified regions\n\n"
      ]
    },
    {
      "cell_type": "code",
      "execution_count": null,
      "metadata": {
        "collapsed": false
      },
      "outputs": [],
      "source": [
        "f_corr = plt.figure()\nfor idx_k, knn in enumerate(knn_tot):\n    plt.plot(gamma_tot, correct_roi[idx_k, :], \n       label='$k$ = %d'%knn, color=colors[idx_k])\nplt.plot(gamma_tot, correct_roi_an*np.ones(np.size(gamma_tot)),\n       'k--', label='DK')\nplt.xlabel(r'Weight of the spatial distances', fontsize=30)\nplt.xticks(gamma_tot)\nplt.ylabel(r'Number of source locations ($\\%$)',fontsize=30)\nplt.ylim(10, 70)\nplt.xlim(-0.1, 1.1)\nplt.legend(bbox_to_anchor=(1.05, 1.0), loc='upper left',fontsize=18)\nf_corr.set_size_inches(9, 6.5)\nplt.tight_layout(pad=1)\n\nf_corr_full = plt.figure()\nax_corr_full = f_corr_full.add_subplot(1,1,1)\nfor idx_k, knn in enumerate(knn_tot):\n    ax_corr_full.plot(gamma_tot, correct_roi_full[idx_k, :],\n       label='$k$ = %d'%knn, color=colors[idx_k])\nax_corr_full.plot(gamma_tot, correct_roi_an_full*np.ones(np.size(gamma_tot)),\n                  'k--', label='DK')\nax_corr_full.set_xlabel(r'Weight of the spatial distances', fontsize=30)\nax_corr_full.set_xticks(gamma_tot)\nax_corr_full.set_ylabel(r'Number of source locations ($\\%$)',fontsize=30)\nax_corr_full.set_ylim(10, 70)\nax_corr_full.set_xlim(-0.1, 1.1)\nplt.legend(bbox_to_anchor=(1.05, 1.0), loc='upper left',fontsize=18)\nf_corr_full.set_size_inches(9, 6.5)\nplt.tight_layout(pad=1)"
      ]
    },
    {
      "cell_type": "markdown",
      "metadata": {},
      "source": [
        "Plot distinhuishability index\n\n"
      ]
    },
    {
      "cell_type": "code",
      "execution_count": null,
      "metadata": {
        "collapsed": false
      },
      "outputs": [],
      "source": [
        "_aux = np.array([-0.01, 0.005, -0.005, 0.01])\nf_DI = plt.figure()\nfor idx_k, knn in enumerate(knn_tot):\n    plt.plot(gamma_tot+_aux[idx_k], dist_index[idx_k, :], \n                 label='$k$ = %d'%knn, color=colors[idx_k], \n                 zorder=idx_k)\nplt.plot(gamma_tot, dist_index_an*np.ones(np.size(gamma_tot)), \n        'k--', label='DK')\nplt.legend(bbox_to_anchor=(1.05, 1.0), loc='upper left',fontsize=18)\nplt.xlabel(r'Weight of the spatial distances', fontsize=25)\nplt.ylabel(r'Distinguishability index', fontsize=25)\nplt.ylim(0, 1)\nplt.xlim(-0.05, 1.05)\nplt.xticks(gamma_tot)\n\nf_DI.set_size_inches(9, 5.5)\nplt.tight_layout(pad=1.5)\n\n\n\"\""
      ]
    }
  ],
  "metadata": {
    "kernelspec": {
      "display_name": "Python 3",
      "language": "python",
      "name": "python3"
    },
    "language_info": {
      "codemirror_mode": {
        "name": "ipython",
        "version": 3
      },
      "file_extension": ".py",
      "mimetype": "text/x-python",
      "name": "python",
      "nbconvert_exporter": "python",
      "pygments_lexer": "ipython3",
      "version": "3.10.10"
    }
  },
  "nbformat": 4,
  "nbformat_minor": 0
}